{
 "cells": [
  {
   "cell_type": "markdown",
   "id": "74d9a1aa",
   "metadata": {},
   "source": [
    "# Prediction\n",
    "Purpose: I would like to better understand the retinal predictive properties described by Stepahnie Palmer in her paper,\n",
    "> Palmer, S. E., Marre, O., Berry, M. J., & Bialek, W. (2015). \"Predictive information in a sensory population.\" *Proceedings of the National Academy of Sciences of the United States of America*, 112(22), 6908–6913. https://doi.org/10.1073/pnas.1506855112\n",
    "\n",
    "This notebook also uses [nengo](http://nengo.ai)."
   ]
  },
  {
   "cell_type": "code",
   "execution_count": 68,
   "id": "bd71ae9c",
   "metadata": {},
   "outputs": [],
   "source": [
    "import numpy as np\n",
    "import matplotlib.pyplot as plt\n",
    "import nengo\n",
    "from nengo.utils.matplotlib import rasterplot\n",
    "\n",
    "# These next lines allow you to run nengo_gui within jupyter.\n",
    "#from nengo_gui.ipython import IPythonViz\n",
    "#IPythonViz(model)"
   ]
  },
  {
   "cell_type": "code",
   "execution_count": 39,
   "id": "35405650",
   "metadata": {},
   "outputs": [
    {
     "data": {
      "text/html": [
       "<style>.container { width:98% !important; }</style>"
      ],
      "text/plain": [
       "<IPython.core.display.HTML object>"
      ]
     },
     "metadata": {},
     "output_type": "display_data"
    }
   ],
   "source": [
    "from IPython.display import display, HTML\n",
    "display(HTML(\"<style>.container { width:98% !important; }</style>\"))\n",
    "np.set_printoptions(edgeitems=30, linewidth=250, precision=4)"
   ]
  },
  {
   "cell_type": "markdown",
   "id": "3f5e5b5e",
   "metadata": {
    "heading_collapsed": true
   },
   "source": [
    "## Stimulus: `WanderingBar`"
   ]
  },
  {
   "cell_type": "code",
   "execution_count": 40,
   "id": "60e14481",
   "metadata": {
    "hidden": true
   },
   "outputs": [],
   "source": [
    "class WanderingBar(nengo.Process):\n",
    "    def __init__(self, Gamma=20., w=4.2, **kwargs):\n",
    "        self.x = np.array([0., 0])\n",
    "        self.Gamma = Gamma\n",
    "        self.w = w\n",
    "        self.D = 2.7e6\n",
    "        # pass the default sizes to the Process constructor\n",
    "        super(WanderingBar, self).__init__(default_size_in=0, default_size_out=2, **kwargs)\n",
    "        \n",
    "    def make_step(self, shape_in, shape_out, dt, rng, xv=None):\n",
    "        \n",
    "        def step(t):\n",
    "            x,v = self.x\n",
    "            dxdt = v\n",
    "            dvdt = -self.Gamma*v - self.w**2*x\n",
    "            \n",
    "            self.x[0] += dt*dxdt\n",
    "            self.x[1] += dt*dvdt + np.random.normal()*np.sqrt(self.D*dt)\n",
    "            return self.x\n",
    "        \n",
    "        return step"
   ]
  },
  {
   "cell_type": "markdown",
   "id": "3855efe2",
   "metadata": {
    "heading_collapsed": true
   },
   "source": [
    "## Nengo network"
   ]
  },
  {
   "cell_type": "markdown",
   "id": "e23309bf",
   "metadata": {
    "hidden": true
   },
   "source": [
    "Create a Nengo network. This one createsd a \"Node\" b that simply spits out the location (and velocity) of the wandering bar. The location output (ie. b[0]) gets fed into an \"Ensemble\" A, which is a population of spiking neurons."
   ]
  },
  {
   "cell_type": "code",
   "execution_count": 62,
   "id": "6b36c9a9",
   "metadata": {
    "hidden": true
   },
   "outputs": [],
   "source": [
    "with nengo.Network() as model:\n",
    "    b = nengo.Node(WanderingBar(), size_in=0, size_out=2)\n",
    "    b_p = nengo.Probe(b)\n",
    "    \n",
    "    A = nengo.Ensemble(n_neurons=50, radius=200, dimensions=1)\n",
    "    \n",
    "    nengo.Connection(b[0], A)\n",
    "    A_p = nengo.Probe(A.neurons)"
   ]
  },
  {
   "cell_type": "markdown",
   "id": "52bab5ef",
   "metadata": {
    "hidden": true
   },
   "source": [
    "Run the simulation for some time."
   ]
  },
  {
   "cell_type": "code",
   "execution_count": 63,
   "id": "cc706a4c",
   "metadata": {
    "hidden": true
   },
   "outputs": [
    {
     "data": {
      "application/vdom.v1+json": {
       "attributes": {},
       "tagName": "div"
      },
      "text/html": [
       "\n",
       "                <script>\n",
       "                    if (Jupyter.version.split(\".\")[0] < 5) {\n",
       "                        var pb = document.getElementById(\"782b4950-f1d7-435c-9b80-d6eb51eecbb6\");\n",
       "                        var text = document.createTextNode(\n",
       "                            \"HMTL progress bar requires Jupyter Notebook >= \" +\n",
       "                            \"5.0 or Jupyter Lab. Alternatively, you can use \" +\n",
       "                            \"TerminalProgressBar().\");\n",
       "                        pb.parentNode.insertBefore(text, pb);\n",
       "                    }\n",
       "                </script>\n",
       "                <div id=\"782b4950-f1d7-435c-9b80-d6eb51eecbb6\" style=\"\n",
       "                    width: 100%;\n",
       "                    border: 1px solid #cfcfcf;\n",
       "                    border-radius: 4px;\n",
       "                    text-align: center;\n",
       "                    position: relative;\">\n",
       "                  <div class=\"pb-text\" style=\"\n",
       "                      position: absolute;\n",
       "                      width: 100%;\">\n",
       "                    0%\n",
       "                  </div>\n",
       "                  <div class=\"pb-fill\" style=\"\n",
       "                      background-color: #bdd2e6;\n",
       "                      width: 0%;\">\n",
       "                    <style type=\"text/css\" scoped=\"scoped\">\n",
       "                        @keyframes pb-fill-anim {\n",
       "                            0% { background-position: 0 0; }\n",
       "                            100% { background-position: 100px 0; }\n",
       "                        }\n",
       "                    </style>\n",
       "                    &nbsp;\n",
       "                  </div>\n",
       "                </div>"
      ],
      "text/plain": [
       "HtmlProgressBar cannot be displayed. Please use the TerminalProgressBar. It can be enabled with `nengo.rc['progress']['progress_bar'] = 'nengo.utils.progress.TerminalProgressBar'`."
      ]
     },
     "metadata": {},
     "output_type": "display_data"
    },
    {
     "data": {
      "application/vdom.v1+json": {
       "attributes": {
        "id": "8eb187a1-ddc5-4294-adea-87d610b37e0d",
        "style": {
         "border": "1px solid #cfcfcf",
         "borderRadius": "4px",
         "boxSizing": "border-box",
         "position": "relative",
         "textAlign": "center",
         "width": "100%"
        }
       },
       "children": [
        {
         "attributes": {
          "class": "pb-text",
          "style": {
           "position": "absolute",
           "width": "100%"
          }
         },
         "children": [
          "Build finished in 0:00:01."
         ],
         "tagName": "div"
        },
        {
         "attributes": {
          "class": "pb-fill",
          "style": {
           "animation": "none",
           "backgroundColor": "#bdd2e6",
           "backgroundImage": "none",
           "backgroundSize": "100px 100%",
           "width": "100%"
          }
         },
         "children": [
          {
           "attributes": {
            "scoped": "scoped",
            "type": "text/css"
           },
           "children": [
            "\n                        @keyframes pb-fill-anim {\n                            0% { background-position: 0 0; }\n                            100% { background-position: 100px 0; }\n                        }}"
           ],
           "tagName": "style"
          },
          " "
         ],
         "tagName": "div"
        }
       ],
       "tagName": "div"
      },
      "text/html": [
       "<script>\n",
       "              (function () {\n",
       "                  var root = document.getElementById('782b4950-f1d7-435c-9b80-d6eb51eecbb6');\n",
       "                  var text = root.getElementsByClassName('pb-text')[0];\n",
       "                  var fill = root.getElementsByClassName('pb-fill')[0];\n",
       "\n",
       "                  text.innerHTML = 'Build finished in 0:00:01.';\n",
       "                  \n",
       "            fill.style.width = '100%';\n",
       "            fill.style.animation = 'pb-fill-anim 2s linear infinite';\n",
       "            fill.style.backgroundSize = '100px 100%';\n",
       "            fill.style.backgroundImage = 'repeating-linear-gradient(' +\n",
       "                '90deg, #bdd2e6, #edf2f8 40%, #bdd2e6 80%, #bdd2e6)';\n",
       "        \n",
       "                  \n",
       "                fill.style.animation = 'none';\n",
       "                fill.style.backgroundImage = 'none';\n",
       "            \n",
       "              })();\n",
       "        </script>"
      ]
     },
     "metadata": {},
     "output_type": "display_data"
    },
    {
     "data": {
      "application/vdom.v1+json": {
       "attributes": {},
       "tagName": "div"
      },
      "text/html": [
       "\n",
       "                <script>\n",
       "                    if (Jupyter.version.split(\".\")[0] < 5) {\n",
       "                        var pb = document.getElementById(\"71399952-96c1-405c-ab9a-164ec9acd3b9\");\n",
       "                        var text = document.createTextNode(\n",
       "                            \"HMTL progress bar requires Jupyter Notebook >= \" +\n",
       "                            \"5.0 or Jupyter Lab. Alternatively, you can use \" +\n",
       "                            \"TerminalProgressBar().\");\n",
       "                        pb.parentNode.insertBefore(text, pb);\n",
       "                    }\n",
       "                </script>\n",
       "                <div id=\"71399952-96c1-405c-ab9a-164ec9acd3b9\" style=\"\n",
       "                    width: 100%;\n",
       "                    border: 1px solid #cfcfcf;\n",
       "                    border-radius: 4px;\n",
       "                    text-align: center;\n",
       "                    position: relative;\">\n",
       "                  <div class=\"pb-text\" style=\"\n",
       "                      position: absolute;\n",
       "                      width: 100%;\">\n",
       "                    0%\n",
       "                  </div>\n",
       "                  <div class=\"pb-fill\" style=\"\n",
       "                      background-color: #bdd2e6;\n",
       "                      width: 0%;\">\n",
       "                    <style type=\"text/css\" scoped=\"scoped\">\n",
       "                        @keyframes pb-fill-anim {\n",
       "                            0% { background-position: 0 0; }\n",
       "                            100% { background-position: 100px 0; }\n",
       "                        }\n",
       "                    </style>\n",
       "                    &nbsp;\n",
       "                  </div>\n",
       "                </div>"
      ],
      "text/plain": [
       "HtmlProgressBar cannot be displayed. Please use the TerminalProgressBar. It can be enabled with `nengo.rc['progress']['progress_bar'] = 'nengo.utils.progress.TerminalProgressBar'`."
      ]
     },
     "metadata": {},
     "output_type": "display_data"
    },
    {
     "data": {
      "application/vdom.v1+json": {
       "attributes": {
        "id": "9b626ccf-0171-4467-9bd7-264099a5ac93",
        "style": {
         "border": "1px solid #cfcfcf",
         "borderRadius": "4px",
         "boxSizing": "border-box",
         "position": "relative",
         "textAlign": "center",
         "width": "100%"
        }
       },
       "children": [
        {
         "attributes": {
          "class": "pb-text",
          "style": {
           "position": "absolute",
           "width": "100%"
          }
         },
         "children": [
          "Simulation finished in 0:00:01."
         ],
         "tagName": "div"
        },
        {
         "attributes": {
          "class": "pb-fill",
          "style": {
           "animation": "none",
           "backgroundColor": "#bdd2e6",
           "backgroundImage": "none",
           "transition": "width 0.1s linear",
           "width": "100%"
          }
         },
         "children": [
          {
           "attributes": {
            "scoped": "scoped",
            "type": "text/css"
           },
           "children": [
            "\n                        @keyframes pb-fill-anim {\n                            0% { background-position: 0 0; }\n                            100% { background-position: 100px 0; }\n                        }}"
           ],
           "tagName": "style"
          },
          " "
         ],
         "tagName": "div"
        }
       ],
       "tagName": "div"
      },
      "text/html": [
       "<script>\n",
       "              (function () {\n",
       "                  var root = document.getElementById('71399952-96c1-405c-ab9a-164ec9acd3b9');\n",
       "                  var text = root.getElementsByClassName('pb-text')[0];\n",
       "                  var fill = root.getElementsByClassName('pb-fill')[0];\n",
       "\n",
       "                  text.innerHTML = 'Simulation finished in 0:00:01.';\n",
       "                  \n",
       "            if (100.0 > 0.) {\n",
       "                fill.style.transition = 'width 0.1s linear';\n",
       "            } else {\n",
       "                fill.style.transition = 'none';\n",
       "            }\n",
       "\n",
       "            fill.style.width = '100.0%';\n",
       "            fill.style.animation = 'none';\n",
       "            fill.style.backgroundImage = 'none'\n",
       "        \n",
       "                  \n",
       "                fill.style.animation = 'none';\n",
       "                fill.style.backgroundImage = 'none';\n",
       "            \n",
       "              })();\n",
       "        </script>"
      ]
     },
     "metadata": {},
     "output_type": "display_data"
    }
   ],
   "source": [
    "with nengo.Simulator(model) as sim:\n",
    "    sim.run(10.0)"
   ]
  },
  {
   "cell_type": "markdown",
   "id": "6b73dca0",
   "metadata": {
    "hidden": true
   },
   "source": [
    "Plot the wandering bar location. We have access to that from the Probe we created."
   ]
  },
  {
   "cell_type": "code",
   "execution_count": 59,
   "id": "610f1f35",
   "metadata": {
    "hidden": true
   },
   "outputs": [
    {
     "data": {
      "image/png": "[encoded data removed]",
      "text/plain": [
       "<Figure size 640x480 with 1 Axes>"
      ]
     },
     "metadata": {},
     "output_type": "display_data"
    }
   ],
   "source": [
    "plt.plot(sim.trange(), sim.data[b_p][:,0]);\n",
    "plt.ylabel('Location'); plt.xlabel('Time (s)');"
   ]
  },
  {
   "cell_type": "markdown",
   "id": "6a4ce786",
   "metadata": {
    "heading_collapsed": true
   },
   "source": [
    "## Neuon activity"
   ]
  },
  {
   "cell_type": "markdown",
   "id": "89e6fd82",
   "metadata": {
    "hidden": true
   },
   "source": [
    "We added a probe to the neurons in the ensemble A. We can see what each neuron's output was."
   ]
  },
  {
   "cell_type": "code",
   "execution_count": 65,
   "id": "ed056e00",
   "metadata": {
    "hidden": true
   },
   "outputs": [
    {
     "data": {
      "image/png": "[encoded data removed]",
      "text/plain": [
       "<Figure size 640x480 with 1 Axes>"
      ]
     },
     "metadata": {},
     "output_type": "display_data"
    }
   ],
   "source": [
    "# Let's plot the spikes from 1 second to 1.017 seconds.\n",
    "rasterplot(sim.trange()[1000:1017], sim.data[A_p][1000:1017]);"
   ]
  },
  {
   "cell_type": "markdown",
   "id": "b91913fd",
   "metadata": {
    "hidden": true
   },
   "source": [
    "Now let's extract which neurons spiked during a 17ms interval."
   ]
  },
  {
   "cell_type": "code",
   "execution_count": 66,
   "id": "2d462463",
   "metadata": {
    "hidden": true
   },
   "outputs": [],
   "source": [
    "def activity(sp, t):\n",
    "    '''\n",
    "     w = activity(sp, t)\n",
    "     \n",
    "     It looks at the neuron output stored in sp and determines which\n",
    "     neurons spiked at least once during the time interval (t, t+17ms).\n",
    "     The output is a binary vector.\n",
    "    '''\n",
    "    k0 = int(1000*t)\n",
    "    w = np.array( np.sum( sim.data[A_p][k:k+17,:], axis=0 ) > 0 , dtype=int)\n",
    "    return w"
   ]
  },
  {
   "cell_type": "code",
   "execution_count": 67,
   "id": "ee931a4b",
   "metadata": {
    "hidden": true
   },
   "outputs": [
    {
     "data": {
      "text/plain": [
       "array([1, 1, 1, 0, 1, 1, 0, 1, 0, 0, 0, 1, 0, 0, 0, 1, 1, 0, 1, 1, 0, 1, 0, 0, 1, 1, 1, 1, 1, 1, 1, 0, 1, 1, 0, 1, 1, 1, 0, 1, 1, 1, 1, 0, 1, 1, 1, 1, 0, 0])"
      ]
     },
     "execution_count": 67,
     "metadata": {},
     "output_type": "execute_result"
    }
   ],
   "source": [
    "activity(sim.data[A_p], 1.7)"
   ]
  },
  {
   "cell_type": "code",
   "execution_count": null,
   "id": "42ac48e1",
   "metadata": {
    "hidden": true
   },
   "outputs": [],
   "source": []
  }
 ],
 "metadata": {
  "kernelspec": {
   "display_name": "nengo_phasors",
   "language": "python",
   "name": "nengo_phasors"
  },
  "language_info": {
   "codemirror_mode": {
    "name": "ipython",
    "version": 3
   },
   "file_extension": ".py",
   "mimetype": "text/x-python",
   "name": "python",
   "nbconvert_exporter": "python",
   "pygments_lexer": "ipython3",
   "version": "3.9.6"
  },
  "varInspector": {
   "cols": {
    "lenName": 16,
    "lenType": 16,
    "lenVar": 40
   },
   "kernels_config": {
    "python": {
     "delete_cmd_postfix": "",
     "delete_cmd_prefix": "del ",
     "library": "var_list.py",
     "varRefreshCmd": "print(var_dic_list())"
    },
    "r": {
     "delete_cmd_postfix": ") ",
     "delete_cmd_prefix": "rm(",
     "library": "var_list.r",
     "varRefreshCmd": "cat(var_dic_list()) "
    }
   },
   "types_to_exclude": [
    "module",
    "function",
    "builtin_function_or_method",
    "instance",
    "_Feature"
   ],
   "window_display": false
  }
 },
 "nbformat": 4,
 "nbformat_minor": 5
}
